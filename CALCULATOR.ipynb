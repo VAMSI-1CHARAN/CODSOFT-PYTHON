{
 "cells": [
  {
   "cell_type": "code",
   "execution_count": 1,
   "id": "f7930c17",
   "metadata": {},
   "outputs": [
    {
     "name": "stdout",
     "output_type": "stream",
     "text": [
      "Select operation:\n",
      "1. Addition\n",
      "2. Subtraction\n",
      "3. Multiplication\n",
      "4. Division\n",
      "Enter choice (1/2/3/4): 1\n",
      "Enter first number: 61\n",
      "Enter second number: 43\n",
      "Result:  104.0\n"
     ]
    }
   ],
   "source": [
    "# Function to perform addition\n",
    "def addition(number1, number2):\n",
    "    return number1 + number2\n",
    "\n",
    "# Function to perform subtraction\n",
    "def subtraction(number1, number2):\n",
    "    return number1 - number2\n",
    "\n",
    "# Function to perform multiplication\n",
    "def multiplication(number1, number2):\n",
    "    return number1 * number2\n",
    "\n",
    "# Function to perform division\n",
    "def division(number1, number2):\n",
    "    if number2 == 0:\n",
    "        return \"Cannot divide by zero\"\n",
    "    return number1 / number2\n",
    "\n",
    "# Main calculator function\n",
    "def calculator():\n",
    "    print(\"Select operation:\")\n",
    "    print(\"1. Addition\")\n",
    "    print(\"2. Subtraction\")\n",
    "    print(\"3. Multiplication\")\n",
    "    print(\"4. Division\")\n",
    "\n",
    "    # Take user input for operation choice\n",
    "    choice = input(\"Enter choice (1/2/3/4): \")\n",
    "\n",
    "    # Check if the choice is valid\n",
    "    if choice not in ['1', '2', '3', '4']:\n",
    "        print(\"Invalid choice\")\n",
    "        return\n",
    "\n",
    "    # Input two numbers\n",
    "    number1 = float(input(\"Enter first number: \"))\n",
    "    number2 = float(input(\"Enter second number: \"))\n",
    "\n",
    "    # Perform the selected operation\n",
    "    if choice == '1':\n",
    "        result = addition(number1, number2)\n",
    "        print(\"Result: \", result)\n",
    "    elif choice == '2':\n",
    "        result = subtraction(number1, number2)\n",
    "        print(\"Result: \", result)\n",
    "    elif choice == '3':\n",
    "        result = multiplication(number1, number2)\n",
    "        print(\"Result: \", result)\n",
    "    elif choice == '4':\n",
    "        result = division(number1, number2)\n",
    "        print(\"Result: \", result)\n",
    "\n",
    "# Call the calculator function\n",
    "calculator()\n"
   ]
  },
  {
   "cell_type": "code",
   "execution_count": null,
   "id": "b4836cff",
   "metadata": {},
   "outputs": [],
   "source": []
  }
 ],
 "metadata": {
  "kernelspec": {
   "display_name": "Python 3 (ipykernel)",
   "language": "python",
   "name": "python3"
  },
  "language_info": {
   "codemirror_mode": {
    "name": "ipython",
    "version": 3
   },
   "file_extension": ".py",
   "mimetype": "text/x-python",
   "name": "python",
   "nbconvert_exporter": "python",
   "pygments_lexer": "ipython3",
   "version": "3.9.12"
  }
 },
 "nbformat": 4,
 "nbformat_minor": 5
}
