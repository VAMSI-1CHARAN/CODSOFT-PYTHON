{
 "cells": [
  {
   "cell_type": "code",
   "execution_count": 1,
   "id": "152c1286",
   "metadata": {},
   "outputs": [
    {
     "name": "stdout",
     "output_type": "stream",
     "text": [
      "Enter the desired length of the password: 8\n",
      "Generated Password: uBncG8_h\n"
     ]
    }
   ],
   "source": [
    "import random\n",
    "import string\n",
    "\n",
    "# Function to generate a random password\n",
    "def generate_custom_password(length):\n",
    "    # Define the character sets for the password\n",
    "    lowercase_chars = string.ascii_lowercase\n",
    "    uppercase_chars = string.ascii_uppercase\n",
    "    digits_chars = string.digits\n",
    "    special_chars = '!@#$%^&*()_+-=[]{}|;:,.<>?'\n",
    "\n",
    "    # Combine character sets based on complexity\n",
    "    if length < 8:\n",
    "        character_set = lowercase_chars + uppercase_chars + digits_chars\n",
    "    else:\n",
    "        character_set = lowercase_chars + uppercase_chars + digits_chars + special_chars\n",
    "\n",
    "    # Generate the password by randomly selecting characters\n",
    "    password = ''.join(random.choice(character_set) for _ in range(length))\n",
    "    return password\n",
    "\n",
    "# Main program\n",
    "if __name__ == \"__main__\":\n",
    "    try:\n",
    "        password_length = int(input(\"Enter the desired length of the password: \"))\n",
    "        if password_length <= 0:\n",
    "            print(\"Invalid input. Password length must be a positive integer.\")\n",
    "        else:\n",
    "            generated_password = generate_custom_password(password_length)\n",
    "            print(\"Generated Password: \" + generated_password)\n",
    "    except ValueError:\n",
    "        print(\"Invalid input. Please enter a valid positive integer for password length.\")\n"
   ]
  },
  {
   "cell_type": "code",
   "execution_count": null,
   "id": "c396463c",
   "metadata": {},
   "outputs": [],
   "source": []
  }
 ],
 "metadata": {
  "kernelspec": {
   "display_name": "Python 3 (ipykernel)",
   "language": "python",
   "name": "python3"
  },
  "language_info": {
   "codemirror_mode": {
    "name": "ipython",
    "version": 3
   },
   "file_extension": ".py",
   "mimetype": "text/x-python",
   "name": "python",
   "nbconvert_exporter": "python",
   "pygments_lexer": "ipython3",
   "version": "3.9.12"
  }
 },
 "nbformat": 4,
 "nbformat_minor": 5
}
